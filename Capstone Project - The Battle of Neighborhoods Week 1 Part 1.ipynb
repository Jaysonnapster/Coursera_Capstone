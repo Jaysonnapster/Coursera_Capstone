{
 "cells": [
  {
   "cell_type": "markdown",
   "metadata": {},
   "source": [
    "# The battle of Neighborhoods\n",
    "\n",
    "## Week 4 : Part 1\n",
    "\n",
    "### Title : Restaurant recommender system in Pune¶\n",
    "\n",
    "#### Problem background:\n",
    "Pune, also known as Poona is a city in the Indian State of Maharashtra and the eighth most populous city in India, with an estimated population of about 7.4 million as of 2020. It has been ranked as one of the most livable cities in India several times. Due to its growing demand and rise in the number of students for quality education, it is also known as oxford of India. It has a population of 7.27 million and is ranked 8th in the list of metropolitan cities in India. The rise and demand for cuisine is reflection of the cultural diversity present at the moment.\n",
    "Various cuisines available is reflective of the social and economic diversity of Pune. Roadside vendors, tea stalls, South Indian, North Indian, Western fast food are all very popular in the city. Kolhapuri restaurants are very popular and serve authentic spicy cuisines. Pune can also be called a foodie's paradise because of its vast variety of foods and edibles with a tinge of Marathi masalas. Vada Pav, Misal Pav, Bhakri are one of must try vegetarian fast food dish native to the state of Maharashtra.\n",
    "\n",
    "#### Problem Description:\n",
    "It is hectic if someone travels a lot and keeps on changing places frequently. Plus the experience vary with changes in environment if the new location being travelled to is unknown. Under such scenarios, food plays an important factor for deciding how one rates his/ her trips and also recommmends it to the people who plan to visit those places or restaurants. Food can also attract people around the world to try it out if others have been to those places and recommend it to be a good one. Under such scenarios, we need to find the right place, at reasonable cost, to serve us the best possible way. Questions that must be addresed while looking for such problem are:\n",
    "\n",
    "- How many types of foods are available in the restaurant ?\n",
    "- Which is closest to user with good rating ?\n",
    "- How many \"similar\" restaurants are available nearby ?\n",
    "- Do the \"similar\" restaurants cost more ? If so, what speciality do that have ?\n",
    "- To address such question, XYZ company's manager decides to allocate this project not just to find out solutions to the questions but also build a system that can help in recommending new places based on their rankings compared to the previously visited by me.\n",
    "\n",
    "Expectations from this recommender system is to get answer for the questions, and in such a way that it uncovers all the perspective of managing recommendations. It sights to show us:\n",
    "\n",
    "- What types of restaurants are present in a particular area ?\n",
    "- where are the other restaurants that are present based on a preference to a particular food ?\n",
    "- How do different restaurants rank with respect to my preferences ?\n",
    "\n",
    "#### Target audience:\n",
    "Target audiences for this project does not limit to a person who keeps travelling but everyone. People could simply decide to look for a similar restaurant all the time because they are addicted to a specific category of food. People who rarely use restaurants would prefer to have the most rated restaurants nearby them and all this could be easily handed by our recommender system. So target for this project would be everyone who is willing to exploring different or similar places based on their choice and interest.\n",
    "\n",
    "#### Success rate:\n",
    "With restaurants evolving, new food categories emerge, hybrid food starts to be more popular, we need a system that could help us access vast number of food varieties. It is impossible for a person to ask each and everyone about their visit to a particular place and also not everyone remembers everything. On the other hand, Computers are good at remembering things, and with Machine learning to its peak, it high time technology will by our personal guidence and help us personally based on our likes and dislikes. So, people would care about this project as their personal assistance and success rate could certainly increase with time."
   ]
  },
  {
   "cell_type": "code",
   "execution_count": null,
   "metadata": {},
   "outputs": [],
   "source": []
  }
 ],
 "metadata": {
  "kernelspec": {
   "display_name": "Python 3",
   "language": "python",
   "name": "python3"
  },
  "language_info": {
   "codemirror_mode": {
    "name": "ipython",
    "version": 3
   },
   "file_extension": ".py",
   "mimetype": "text/x-python",
   "name": "python",
   "nbconvert_exporter": "python",
   "pygments_lexer": "ipython3",
   "version": "3.8.2"
  }
 },
 "nbformat": 4,
 "nbformat_minor": 4
}
